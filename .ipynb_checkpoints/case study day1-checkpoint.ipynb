{
 "cells": [
  {
   "cell_type": "code",
   "execution_count": 6,
   "id": "5195a820",
   "metadata": {},
   "outputs": [
    {
     "name": "stdout",
     "output_type": "stream",
     "text": [
      "120\n",
      "70\n"
     ]
    }
   ],
   "source": [
    "class Car:\n",
    "    def __init__(self, speed):#2nd question \n",
    "        self.speed = speed\n",
    "\n",
    "    def Accelerate(self, increase):\n",
    "        self.speed += increase\n",
    "\n",
    "    def Brake(self, decrease):\n",
    "        if self.speed - decrease >=0:\n",
    "            self.speed -= decrease\n",
    "        else:\n",
    "            print(\"Car has already stopped\")\n",
    "        return self.speed\n",
    "\n",
    "my_car = Car(100)\n",
    "my_car.Accelerate(30)\n",
    "print(my_car.speed)\n",
    "\n",
    "my_car.Brake(50)\n",
    "print(my_car.speed)\n"
   ]
  },
  {
   "cell_type": "code",
   "execution_count": 4,
   "id": "4ba463c1",
   "metadata": {},
   "outputs": [
    {
     "name": "stdout",
     "output_type": "stream",
     "text": [
      "My car's mpg: 30, Speed is 120, Year is 2022\n"
     ]
    }
   ],
   "source": [
    "class Car:\n",
    "    year = 2022 #1st Question\n",
    "    mpg = 40\n",
    "    speed = 120\n",
    "car = Car()\n",
    "print(f\"My car's mpg: {car.mpg}, Speed is {car.speed}, Year is {car.year}\")"
   ]
  },
  {
   "cell_type": "code",
   "execution_count": 9,
   "id": "4a7eb238",
   "metadata": {},
   "outputs": [
    {
     "name": "stdout",
     "output_type": "stream",
     "text": [
      "Year: 2020\n",
      "Speed: 130\n",
      "MPG: 30\n",
      "Increase: 30\n",
      "Decrease: 50\n",
      "Accreleate: 160\n",
      "Breake: 110\n"
     ]
    }
   ],
   "source": [
    "#3d question\n",
    "class Car:\n",
    "    def __init__(self, speed,year,mpg):\n",
    "        self.speed = speed\n",
    "        self.year = year\n",
    "        self.mpg = mpg\n",
    "\n",
    "    def Accelerate(self, increase):\n",
    "        self.speed += increase\n",
    "\n",
    "    def Brake(self, decrease):\n",
    "         if self.speed - decrease >= 0:\n",
    "            self.speed -= decrease\n",
    "        return self.speed\n",
    "\n",
    "year=int(input('Year: '))\n",
    "\n",
    "speed=int(input('Speed: '))\n",
    "\n",
    "mpg = int(input('MPG: '))\n",
    "increase = int(input('Increase: '))\n",
    "decrease = int(input('Decrease: '))\n",
    "\n",
    "my_car = Car(speed, year, mpg) \n",
    "my_car.Accelerate(increase)\n",
    "print(\"Accreleate:\",my_car.speed)\n",
    "\n",
    "my_car.Brake(decrease)\n",
    "print(\"Breake:\", my_car.speed)"
   ]
  },
  {
   "cell_type": "code",
   "execution_count": 12,
   "id": "3b59cf59",
   "metadata": {},
   "outputs": [
    {
     "name": "stdout",
     "output_type": "stream",
     "text": [
      "Year: 2020\n",
      "Marka: bmw\n",
      "Model: f20\n",
      "MPG: 70\n",
      "Marka: bmw, Model is f20, Year is 2020\n"
     ]
    }
   ],
   "source": [
    "class Vehicle:\n",
    "    def __init__(self, year, model, marka):\n",
    "        self.year = year\n",
    "        self.model = model\n",
    "        self.marka = marka\n",
    "    def display_info(self):\n",
    "        print(f\"Marka: {self.marka}, Model is {self.model}, Year is {self.year}\")\n",
    "        \n",
    "class Car(Vehicle):  # Car inherits from Vehicle\n",
    "    def __init__(self, year, model,marka ,mpg):\n",
    "        super().__init__(year,model,marka) # Call the constructor of the parent class\n",
    "        self.mpg = mpg\n",
    "year = int(input('Year: '))\n",
    "marka = input('Marka: ')\n",
    "model = input('Model: ')\n",
    "mpg = int(input('MPG: '))\n",
    "my_car = Car(year,model,marka,mpg)\n",
    "my_car.display_info()"
   ]
  },
  {
   "cell_type": "code",
   "execution_count": 13,
   "id": "6d5ee2c2",
   "metadata": {},
   "outputs": [
    {
     "name": "stdout",
     "output_type": "stream",
     "text": [
      "Year: 2020\n",
      "Marka: Volvo\n",
      "Model: XC90\n",
      "MPG: 10\n",
      "Marka: Volvo, Model is XC90, Year is 2020\n",
      "MPG: 10\n"
     ]
    }
   ],
   "source": [
    "class Bus(Vehicle):  # Car inherits from Vehicle\n",
    "    def __init__(self, year, model,marka ,mpg):\n",
    "        super().__init__(year,model,marka) # Call the constructor of the parent class\n",
    "        self.mpg = mpg\n",
    "    def display_info(self):\n",
    "        super().display_info()\n",
    "        print(f\"MPG: {self.mpg}\")\n",
    "\n",
    "year = int(input('Year: '))\n",
    "marka = input('Marka: ')\n",
    "model = input('Model: ')\n",
    "mpg = int(input('MPG: '))\n",
    "my_car = Bus(year,model,marka,mpg)\n",
    "my_car.display_info()"
   ]
  },
  {
   "cell_type": "code",
   "execution_count": 15,
   "id": "0bd74f81",
   "metadata": {},
   "outputs": [
    {
     "name": "stdout",
     "output_type": "stream",
     "text": [
      "Marka: XC90, Model: Volvo, Year: 2020\n",
      "MPG: 10\n"
     ]
    }
   ],
   "source": [
    "class Vehicle:\n",
    "    def __init__(self, year, model, marka):\n",
    "        self._year = year\n",
    "        self._model = model\n",
    "        self._marka = marka\n",
    "\n",
    "    def display_info(self):\n",
    "        print(f\"Marka: {self._marka}, Model: {self._model}, Year: {self._year}\")  # Access private attributes\n",
    "\n",
    "\n",
    "class Bus(Vehicle):\n",
    "    def __init__(self, year, model, marka, mpg):\n",
    "        super().__init__(year, model, marka)\n",
    "        self._mpg = mpg\n",
    "\n",
    "    def display_info(self):\n",
    "        super().display_info()\n",
    "        print(f\"MPG: {self._mpg}\")\n",
    "\n",
    "\n",
    "bus = Bus(2020, 'Volvo', 'XC90', 10)\n",
    "bus.display_info()"
   ]
  }
 ],
 "metadata": {
  "kernelspec": {
   "display_name": "Python 3 (ipykernel)",
   "language": "python",
   "name": "python3"
  },
  "language_info": {
   "codemirror_mode": {
    "name": "ipython",
    "version": 3
   },
   "file_extension": ".py",
   "mimetype": "text/x-python",
   "name": "python",
   "nbconvert_exporter": "python",
   "pygments_lexer": "ipython3",
   "version": "3.11.5"
  }
 },
 "nbformat": 4,
 "nbformat_minor": 5
}
